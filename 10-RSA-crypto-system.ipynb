{
 "cells": [
  {
   "cell_type": "code",
   "execution_count": 64,
   "id": "6c2d3058",
   "metadata": {},
   "outputs": [],
   "source": [
    "import random\n",
    "from sympy import prime, factorint, mod_inverse, isprime"
   ]
  },
  {
   "cell_type": "markdown",
   "id": "b32c6001",
   "metadata": {},
   "source": [
    "### Symetric cryptography systems"
   ]
  },
  {
   "cell_type": "code",
   "execution_count": 57,
   "id": "e90f37d9",
   "metadata": {},
   "outputs": [],
   "source": [
    "# 159 - Implementing the symetric Cäsar-Chiffre crypto system\n",
    "def ceasar(message: str, key: int):\n",
    "    assert(0 <= key <= 26), \"bruh\"\n",
    "    \n",
    "    decrypted = [s for s in message.lower()]\n",
    "    # shifting the alphabet by i + key mod[26]\n",
    "    new_indices = [ord(s) + key % 26 for s in decrypted]\n",
    "\n",
    "    encrypted = [chr(i) for i in new_indices]\n",
    "    \n",
    "    return \"\".join(encrypted)\n"
   ]
  },
  {
   "cell_type": "code",
   "execution_count": 58,
   "id": "cb8c230c",
   "metadata": {},
   "outputs": [
    {
     "data": {
      "text/plain": [
       "'khoor'"
      ]
     },
     "execution_count": 58,
     "metadata": {},
     "output_type": "execute_result"
    }
   ],
   "source": [
    "ceasar(\"Hello\", 3)"
   ]
  },
  {
   "cell_type": "markdown",
   "id": "53adc5d4",
   "metadata": {},
   "source": [
    "### Asymetric cryptography systems (RSA)"
   ]
  },
  {
   "cell_type": "code",
   "execution_count": 166,
   "id": "4c7e0365",
   "metadata": {},
   "outputs": [],
   "source": [
    "def rsa(lower_bound: int, upper_bound: int, N: int):\n",
    "    offset = random.randint(5, 15)\n",
    "    # computing 2 primes q and q and their product n\n",
    "    p, q = prime(random.randint(lower_bound, upper_bound)), prime(\n",
    "            random.randint(lower_bound + offset, upper_bound + offset))\n",
    "    n = p * q\n",
    "    \n",
    "    # computing phi and e such that 1 < e < phi(n) and gcd(e, phi(n)) = 1\n",
    "    phi = (p - 1) * (q - 1)\n",
    "    factors = factorint(phi)\n",
    "    coprime_factors = [i for i in range(2, phi) if i not in factors.keys() and isprime(i)]\n",
    "    \n",
    "    # e to encrypt\n",
    "    e = random.choice(coprime_factors)\n",
    "    \n",
    "    # computing the modular multiplicative inverse of e mod[phi]\n",
    "    d = mod_inverse(e, phi)\n",
    "    \n",
    "    public_key = n, e\n",
    "    private_key = n, d\n",
    "    \n",
    "    # using rsa to encrypt integers N < n\n",
    "    crypt = lambda M, k: pow(M, k, n)\n",
    "    # encrypting with e\n",
    "    crypted = crypt(N, e)\n",
    "    # decrypting with d\n",
    "    decrypted = crypt(crypted, d)\n",
    "    \n",
    "    # checking if the original message corresponds to the decrytped message\n",
    "    return N == decrypted"
   ]
  },
  {
   "cell_type": "code",
   "execution_count": 167,
   "id": "892a526e",
   "metadata": {},
   "outputs": [
    {
     "data": {
      "text/plain": [
       "True"
      ]
     },
     "execution_count": 167,
     "metadata": {},
     "output_type": "execute_result"
    }
   ],
   "source": [
    "rsa(30, 80, 51234)"
   ]
  }
 ],
 "metadata": {
  "kernelspec": {
   "display_name": "Python 3 (ipykernel)",
   "language": "python",
   "name": "python3"
  },
  "language_info": {
   "codemirror_mode": {
    "name": "ipython",
    "version": 3
   },
   "file_extension": ".py",
   "mimetype": "text/x-python",
   "name": "python",
   "nbconvert_exporter": "python",
   "pygments_lexer": "ipython3",
   "version": "3.10.6"
  }
 },
 "nbformat": 4,
 "nbformat_minor": 5
}
